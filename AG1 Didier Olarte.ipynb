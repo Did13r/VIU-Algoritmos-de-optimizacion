{
 "cells": [
  {
   "cell_type": "markdown",
   "id": "4e421324",
   "metadata": {},
   "source": [
    "Actividad Guiada 1\n",
    "Divide & conquer // Greedy algorithm\n",
    "\n",
    "Didier Camilo Olarte Gonzalez\n"
   ]
  },
  {
   "cell_type": "markdown",
   "id": "685f4828",
   "metadata": {},
   "source": [
    "Link GitHub: https://github.com/Did13r/VIU-Algoritmos-de-optimizacion"
   ]
  },
  {
   "cell_type": "code",
   "execution_count": null,
   "id": "f04dbadd",
   "metadata": {},
   "outputs": [],
   "source": []
  },
  {
   "cell_type": "code",
   "execution_count": 9,
   "id": "367a1ca3",
   "metadata": {},
   "outputs": [
    {
     "name": "stdout",
     "output_type": "stream",
     "text": [
      "Mover bloque desde 1 a 2\n",
      "Mover bloque desde 1 a 3\n",
      "Mover bloque desde 2 a 3\n",
      "Mover bloque desde 1 a 2\n",
      "Mover bloque desde 3 a 1\n",
      "Mover bloque desde 3 a 2\n",
      "Mover bloque desde 1 a 2\n",
      "Mover bloque desde 1 a 3\n",
      "Mover bloque desde 2 a 3\n",
      "Mover bloque desde 2 a 1\n",
      "Mover bloque desde 3 a 1\n",
      "Mover bloque desde 2 a 3\n",
      "Mover bloque desde 1 a 2\n",
      "Mover bloque desde 1 a 3\n",
      "Mover bloque desde 2 a 3\n"
     ]
    }
   ],
   "source": [
    "#torres de hanoi\n",
    "\n",
    "def torres_hanoi(N, origen, destino, pivote):\n",
    "\n",
    "    if N==1:\n",
    "        print(f\"Mover bloque desde {origen} a {destino}\")\n",
    "        return\n",
    "\n",
    "    torres_hanoi(N-1, origen, pivote, destino)\n",
    "    print(f\"Mover bloque desde {origen} a {destino}\")\n",
    "    torres_hanoi(N-1, pivote, destino, origen)\n",
    "\n",
    "torres_hanoi(4, 1, 3 ,2)"
   ]
  },
  {
   "cell_type": "code",
   "execution_count": 14,
   "id": "020fa3e3",
   "metadata": {},
   "outputs": [
    {
     "name": "stdout",
     "output_type": "stream",
     "text": [
      "SISTEMA: \n",
      "[50, 20, 10, 5, 1]\n"
     ]
    },
    {
     "data": {
      "text/plain": [
       "[0, 2, 0, 0, 3]"
      ]
     },
     "execution_count": 14,
     "metadata": {},
     "output_type": "execute_result"
    }
   ],
   "source": [
    "#devolver cambio\n",
    "\n",
    "def cambio_moneda(CANTIDAD, SISTEMA):\n",
    "\n",
    "    print (\"SISTEMA: \")\n",
    "    print(SISTEMA)\n",
    "\n",
    "    SOLUCION= [0 for i in range(len(SISTEMA))] \n",
    "    VALOR_ACUMULADO=0\n",
    "\n",
    "    for i in range(len(SISTEMA)):\n",
    "        monedas=int((CANTIDAD-VALOR_ACUMULADO)/SISTEMA[i])\n",
    "        SOLUCION[i]=monedas\n",
    "        VALOR_ACUMULADO += monedas*SISTEMA[i]\n",
    "        if VALOR_ACUMULADO==CANTIDAD: \n",
    "            break\n",
    "\n",
    "    return SOLUCION\n",
    "\n",
    "SISTEMA=[50, 20, 10, 5, 1]\n",
    "\n",
    "cambio_moneda(43, SISTEMA)"
   ]
  },
  {
   "cell_type": "code",
   "execution_count": null,
   "id": "fd5547b9",
   "metadata": {},
   "outputs": [],
   "source": []
  }
 ],
 "metadata": {
  "kernelspec": {
   "display_name": "Python 3 (ipykernel)",
   "language": "python",
   "name": "python3"
  },
  "language_info": {
   "codemirror_mode": {
    "name": "ipython",
    "version": 3
   },
   "file_extension": ".py",
   "mimetype": "text/x-python",
   "name": "python",
   "nbconvert_exporter": "python",
   "pygments_lexer": "ipython3",
   "version": "3.10.9"
  }
 },
 "nbformat": 4,
 "nbformat_minor": 5
}
