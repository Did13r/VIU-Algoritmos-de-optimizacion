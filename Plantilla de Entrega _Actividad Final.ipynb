{
 "cells": [
  {
   "cell_type": "markdown",
   "metadata": {
    "id": "hVbXYX-RfPWh"
   },
   "source": [
    "# Algoritmos de optimización - Seminario<br>\n",
    "Nombre y Apellidos:   Didier Camilo Olarte Gonzalez <br>\n",
    "Url: https://github.com/Did13r/VIU-Algoritmos-de-optimizacion.git <br>\n",
    "Problema:\n",
    "> 1. Sesiones de doblaje <br>\n",
    "\n",
    "\n",
    "\n",
    "Descripción del problema:\n",
    "\n",
    "Se precisa coordinar el doblaje de una película. Los actores del doblaje deben coincidir en las\n",
    "tomas en las que sus personajes aparecen juntos en las diferentes tomas. Los actores de\n",
    "doblaje cobran todos la misma cantidad por cada día que deben desplazarse hasta el estudio de\n",
    "grabación independientemente del número de tomas que se graben. No es posible grabar más\n",
    "de 6 tomas por día. El objetivo es planificar las sesiones por día de manera que el gasto por los\n",
    "servicios de los actores de doblaje sea el menor posible. \n",
    "\n",
    "Número de actores: 10  <br>\n",
    "Número de tomas : 30\n",
    "\n",
    "(*) La respuesta es obligatoria\n",
    "\n",
    "\n",
    "\n",
    "\n",
    "\n"
   ]
  },
  {
   "cell_type": "markdown",
   "metadata": {
    "id": "3_-exlrTgLd-"
   },
   "source": [
    "(*)¿Cuantas posibilidades hay sin tener en cuenta las restricciones?<br>\n",
    "\n",
    "\n",
    "\n",
    "¿Cuantas posibilidades hay teniendo en cuenta todas las restricciones.\n",
    "\n",
    "\n"
   ]
  },
  {
   "cell_type": "markdown",
   "metadata": {
    "id": "WfCUqJyKhPcw"
   },
   "source": [
    "Respuesta"
   ]
  },
  {
   "cell_type": "markdown",
   "metadata": {
    "id": "iq6Fe32MgpDX"
   },
   "source": [
    "En terminos de la programacion de las tomas a ser grabadas, las posibilidades de organizacion son las mismas en ambos casos y estarian dadas por 30!, de manera que elaboramos nuestra lista de tomas, seleccionando de una en una, sin repetir, hasta agotar las 30.\n",
    "Incluso al introducir la restriccion de maximo 6 tomas diarias, el orden general de grabacion permaneceria inalterado, unicamente seria segmentado en grupos de a seis. Lo que si se ve impactado en definitiva es el costo, pues, sin restricciones, podemos grabar todo en un solo dia y pagar unicamente a los 10 actores por esa jornada, resultando en un coste de 10(1 Cheque por actor), en cambio, esta restriccion nos obliga a llamar a ciertos actores en repetidas ocaciones, elevando el coste.\n",
    "En ese sentido pasamos de tener 1 solo dia de grabacion a tener 5.\n"
   ]
  },
  {
   "cell_type": "markdown",
   "metadata": {
    "id": "dzynfVJahHoY"
   },
   "source": [
    "Modelo para el espacio de soluciones<br>\n",
    "(*) ¿Cual es la estructura de datos que mejor se adapta al problema? Argumentalo.(Es posible que hayas elegido una al principio y veas la necesidad de cambiar, arguentalo)\n"
   ]
  },
  {
   "cell_type": "markdown",
   "metadata": {
    "id": "xFIJrOwKi2Ti"
   },
   "source": [
    "Respuesta"
   ]
  },
  {
   "cell_type": "markdown",
   "metadata": {
    "id": "38c-7-ejhJmA"
   },
   "source": [
    "Puedo hacer uso de listas o de dataframes, en los que voy guardando de forma iterativa las tomas seleccionas por sesion de grabacion, y otra en la que lleve registro de los actores involucrados en ella."
   ]
  },
  {
   "cell_type": "markdown",
   "metadata": {
    "id": "7Z9U2W7bi-XS"
   },
   "source": [
    "Según el modelo para el espacio de soluciones<br>\n",
    "(*)¿Cual es la función objetivo?\n",
    "\n",
    "(*)¿Es un problema de maximización o minimización?"
   ]
  },
  {
   "cell_type": "markdown",
   "metadata": {
    "id": "hBalWLM7j1_d"
   },
   "source": [
    "Respuesta"
   ]
  },
  {
   "cell_type": "markdown",
   "metadata": {
    "id": "pDA-rg3Gj5Lz"
   },
   "source": [
    "Una posible formulación en notación matemática de la función objetivo para minimizar el costo total de los servicios de los actores de doblaje podría ser la siguiente:\n",
    "\n",
    "Minimizar i=1∑n ​Ci​xi​\n",
    "\n",
    "donde n es el número total de días en que se graban tomas, Ci​ es el costo por día para todos los actores que deben desplazarse al estudio de grabación en el día i, y xi​ es una variable binaria que toma el valor 1 si hay al menos una toma programada para el día i y 0 en caso contrario."
   ]
  },
  {
   "cell_type": "markdown",
   "metadata": {
    "id": "rlnTYgY1j6I2"
   },
   "source": [
    "Diseña un algoritmo para resolver el problema por fuerza bruta"
   ]
  },
  {
   "cell_type": "markdown",
   "metadata": {
    "id": "70rDgxYXkC8r"
   },
   "source": [
    "Respuesta"
   ]
  },
  {
   "cell_type": "code",
   "execution_count": null,
   "metadata": {
    "id": "CJb5sQ0qkENy"
   },
   "outputs": [],
   "source": [
    "import pandas as pd\n",
    "import numpy as np\n",
    "import random\n",
    "from itertools import permutations\n",
    "\n",
    "#Leer el fichero datos_A.csv - yo di un formato ligeramente diferente el dataset provisto\n",
    "file_path = 'datos_A.csv'\n",
    "df = pd.read_csv(file_path)\n",
    "\n",
    "#Mostar el DataFrame\n",
    "#print(df)\n",
    "\n",
    "\n",
    "#funcion que genera lista de todas las combinaciones posibles de las 30 (o n) tomas \n",
    "#cada combinacion se corresponde con una programacion general de grabacion \n",
    "#es decir (el orden de grabacion de todas las tomas sin agrupar por dias)\n",
    "def generar_combinaciones(n):\n",
    "    tomas = list(range(1, n+1))\n",
    "    combinaciones = [list(comb) for comb in permutations(tomas)]\n",
    "    return combinaciones\n",
    "\n",
    "# n deberia ser 30 que es el numero de tomas pero despues de 9 mi laptop no da mas\n",
    "# asi que pruebo el algoritmo con n<9\n",
    "n = 7 \n",
    "combinaciones = generar_combinaciones(n)\n",
    "#print(combinaciones)\n",
    "\n",
    "\n",
    "#funcion que evalua cada combinacion y calcula el costo de la solucion dada\n",
    "def Generate_BF_solution(df, combination):\n",
    "    \n",
    "    #dataframe que relaciona la tomas de la combinacion evaluado con los actores que participan en ella\n",
    "    total_actors_df = pd.DataFrame({'Toma': combination, 'Total Actors': [df.loc[df['Toma'] == toma, 'ActoresPorToma'].iloc[0] for toma in combination]})\n",
    "\n",
    "    #conjuntos que se emplean para llevar cuenta de la participacion diaria y acumulada\n",
    "    actor_participation = set()\n",
    "    full_actor_participation = set()\n",
    "\n",
    "    #listas que se emplean para llevar cuenta de la programacion de tomas diaria y acumulada\n",
    "    recording_schedule_takes = []\n",
    "    Recordig_Schedule_Full = []\n",
    "    \n",
    "    #varaibles de control de flujo del condicional\n",
    "    recording_days = 0\n",
    "    row_count = len(total_actors_df)\n",
    "    \n",
    "    #costo de la solucion evaluada\n",
    "    cost = 0\n",
    "\n",
    "    take_C = total_actors_df.iloc[0]['Toma']\n",
    "\n",
    "    while row_count > 0:\n",
    "\n",
    "        #Seleccion de la primera toma del dataframe, se guarda en toma_A, \n",
    "        #cuenta los actores en ella, para luego eliminarla del dataframe de referencia\n",
    "        #y le añade a la programacion de grabacion\n",
    "        \n",
    "        take_A = take_C\n",
    "\n",
    "        index_to_drop = total_actors_df[total_actors_df['Toma'] == take_A].index\n",
    "\n",
    "        total_actors_df = total_actors_df.drop(index_to_drop)\n",
    "\n",
    "        actors = df[df['Toma'] == take_A].iloc[0, 1:]\n",
    "\n",
    "        for actor, present in actors.items():\n",
    "            if present == 1:\n",
    "                actor_participation.add(actor)\n",
    "\n",
    "        recording_schedule_takes.append(take_A)\n",
    "        \n",
    "        #se evalua el dataframe de referenca y si solo queda una toma por grabar\n",
    "        #cuenta los actores participantes, los agrega a la lista, y hace la cuenta\n",
    "        #de los totales\n",
    "        if len(total_actors_df) == 1:\n",
    "\n",
    "            recording_days += 1\n",
    "        \n",
    "            last_take = total_actors_df.iloc[0].loc['Toma']\n",
    "            recording_schedule_takes.append(last_take)\n",
    "\n",
    "            actors = df[df['Toma'] == last_take].iloc[0, 1:]\n",
    "\n",
    "            for actor, present in actors.items():\n",
    "                if present == 1:\n",
    "                    actor_participation.add(actor)\n",
    "\n",
    "            #print(f\"Actor Participation per DAY: {actor_participation}\")\n",
    "\n",
    "            full_actor_participation.update(actor_participation)\n",
    "            actor_count = len(actor_participation)\n",
    "            actor_participation = set()\n",
    "\n",
    "            #print(f\"Recording Schedule until DAY: {recording_schedule_takes}\")\n",
    "            \n",
    "            Recordig_Schedule_Full.append(recording_schedule_takes)\n",
    "            recording_schedule_takes = []\n",
    "            #print(f\"Recording Schedule Acumulated: {Recordig_Schedule_Full}\")\n",
    "\n",
    "            actors_recording_day = pd.DataFrame({'Day': [recording_days], 'Actor Count': [actor_count]})\n",
    "\n",
    "            cost += actor_count\n",
    "\n",
    "            #print(actors_recording_day)\n",
    "            #print(\"----- end --------------------------------of-------------------------------- day ---------\")\n",
    "            #print(\"------------------------------------------------------------------------------------------\\n\\n\")\n",
    "            break\n",
    "\n",
    "        #asigna a B la nueva primera toma del dataframe con las tomas restantes y a C la que le sigue\n",
    "        take_B = total_actors_df.iloc[0]['Toma']\n",
    "        take_C = total_actors_df.iloc[1]['Toma']\n",
    "\n",
    "\n",
    "        #cuenta los actores en ella, para luego eliminarla del dataframe de referencia\n",
    "        #y le añade a la programacion de grabacion\n",
    "        actors = df[df['Toma'] == take_B].iloc[0, 1:]\n",
    "\n",
    "        for actor, present in actors.items():\n",
    "            if present == 1:\n",
    "                actor_participation.add(actor)\n",
    "\n",
    "        recording_schedule_takes.append(take_B)\n",
    "\n",
    "        index_to_drop = total_actors_df[total_actors_df['Toma'] == take_B].index\n",
    "\n",
    "        total_actors_df = total_actors_df.drop(index_to_drop)\n",
    "\n",
    "        #se actualiza la varible de control del while\n",
    "        row_count = len(total_actors_df)\n",
    "\n",
    "        #se evalua si dataframe de referenca y si van 6 tomas grabadas\n",
    "        #cuenta los actores participantes, los agrega a la lsita, y hace la cuenta\n",
    "        #de los totales diarios\n",
    "        if len(recording_schedule_takes) % 6 == 0 :\n",
    "\n",
    "            recording_days += 1\n",
    "\n",
    "            #print(f\"Actor Participation per DAY: {actor_participation}\")\n",
    "\n",
    "            full_actor_participation.update(actor_participation)\n",
    "            actor_count = len(actor_participation)\n",
    "            actor_participation = set()\n",
    "\n",
    "            #print(f\"Recordig Schedule until DAY: {recording_schedule_takes}\")\n",
    "            \n",
    "            Recordig_Schedule_Full.append(recording_schedule_takes)\n",
    "            recording_schedule_takes = []\n",
    "            \n",
    "            #print(f\"Recordig Schedule Acumulated: {Recordig_Schedule_Full}\")\n",
    "\n",
    "            actors_recording_day = pd.DataFrame({'Day': [recording_days], 'Actor Count': [actor_count]})\n",
    "\n",
    "            cost += actor_count\n",
    "\n",
    "            #print(actors_recording_day)\n",
    "            #print(\"----end ------------------------------of---------------------------------- day ---------\")\n",
    "\n",
    "    return full_actor_participation, Recordig_Schedule_Full, actors_recording_day, cost\n",
    "\n",
    "\n",
    "#implementacion del algoritmo para generar una lista con las soluciones y escoge la mejor 'menor costo'\n",
    "\n",
    "#Lsita que guarda todas las soluciones generadas\n",
    "solutions = []\n",
    "\n",
    "#genera las soluciones llamando iterativamente la funcion tantas veces como haya combinaciones\n",
    "for combination in combinaciones:\n",
    "    full_actor_participation, Recordig_Schedule_Full, actors_recording_total, cost = Generate_BF_solution(df, combination)\n",
    "    \n",
    "    #Guarda la solucion particular y la agrega al listado\n",
    "    solution = {\n",
    "        'full_actor_participation': full_actor_participation,\n",
    "        'Recordig_Schedule_Full': Recordig_Schedule_Full,\n",
    "        'actors_recording_total': actors_recording_total,\n",
    "        'cost': cost\n",
    "    }\n",
    "    solutions.append(solution)\n",
    "\n",
    "#selecciona del listado aquella solucion con el menor costo\n",
    "best_solution = min(solutions, key=lambda x: x['cost'])\n",
    "\n",
    "print(\"Best solution:\")\n",
    "print(best_solution)\n"
   ]
  },
  {
   "cell_type": "markdown",
   "metadata": {
    "id": "tgrnsC2nkFa8"
   },
   "source": [
    "Calcula la complejidad del algoritmo por fuerza bruta"
   ]
  },
  {
   "cell_type": "markdown",
   "metadata": {
    "id": "9eUd3xwckP68"
   },
   "source": [
    "Respuesta"
   ]
  },
  {
   "cell_type": "markdown",
   "metadata": {
    "id": "rvZWwL-ckRST"
   },
   "source": [
    "la complejidad del algoritmo es del orden factorial pues el enfoque de fuerza bruta nos obliga a recorrer todo el espacio de soluciones que estaria compuesto por todas las posibles combinaciones de orden de tomas. Habria que calcular el costo de rodaje diario y total (que es dependiente de la seleccion particular de tomas y actores implicados en ellas) para 30! ≈ 2.65 x 10^32 esa cantidad de tomas y luego compararlas para obtener la solucion que ofrezca el menos coste."
   ]
  },
  {
   "cell_type": "markdown",
   "metadata": {
    "id": "txbrmLmskReM"
   },
   "source": [
    "(*)Diseña un algoritmo que mejore la complejidad del algortimo por fuerza bruta. Argumenta porque crees que mejora el algoritmo por fuerza bruta"
   ]
  },
  {
   "cell_type": "markdown",
   "metadata": {
    "id": "hLrVwt5QkZPD"
   },
   "source": [
    "Respuesta"
   ]
  },
  {
   "cell_type": "markdown",
   "metadata": {},
   "source": [
    "Planteo un algoritmo basado en ordenacon por tomas, seleccionandolas segun la cantidad de actores participantes.\n",
    "La idea es generar la programacion de grabacion con las tomas con mayor numero de actores e ir descendiento progresivamente. Para ello se escoge al azar una toma entre aquellas con el reparto mas grande. <br>\n",
    "Cada toma subsecuente es escogida con base al numero de actores que tenga en comun con la toma previa. Para esto se calcula una matriz de comunalidades de actores para todas la tomas y se emplea como criterio de filtro de las tomas suceptibles a ser selecciondas el IC (indice de comunalidad) entre 2 tomas dadas. En caso de existir multiples IC de igual magnitud, se hace una seleccion aleatoria. <br>\n",
    "Este proceso se repite ciclicamente hasta completar 6 tomas por dia, momento en el cual se calucla la paritcipacion actoral total y con ello el costo por dia.<br>\n",
    "Se itera el paso anterior hasta terminar todas las tomas, llevando cuenta del total de dias y el acumulado del costo. Es este ultima costo total el valor a minimizar.<br>\n",
    "Finalmente, se llama esta funcion generadora de soluciones un numero n de veces (1000), para generar una poblacion de soluciones entre las cuales se escoge la mejor (el menor costo).<br>\n",
    "<br>\n",
    "Este es un algoritmo tipo GRASP pues busca tomar la desicion optima en cada paso (Greedy), pero comtempla elementos de aleatorizacion al escoger al azar entre opciones equivalentes lo que genera siempre soluciones diferentes, incluso desde la eleccion de la primera toma, lo cual hace que funcione como un metaheuristica iterativa de multiarranque"
   ]
  },
  {
   "cell_type": "code",
   "execution_count": null,
   "metadata": {
    "id": "m1eyM21Vkabg"
   },
   "outputs": [],
   "source": [
    "import pandas as pd\n",
    "import numpy as np\n",
    "import random\n",
    "\n",
    "file_path = 'datos_A.csv'\n",
    "df = pd.read_csv(file_path)\n",
    "\n",
    "#calcular la matrix de comunalidades entre todas las tomas\n",
    "n_takes = len(df)\n",
    "n_actors = len(df.columns) - 1\n",
    "communality_matrix = np.zeros((n_takes, n_takes))\n",
    "\n",
    "for i in range(n_takes):\n",
    "    for j in range(n_takes):\n",
    "      \n",
    "        matching_actors = (df.iloc[i, 1:] & df.iloc[j, 1:] == 1).sum()\n",
    "        \n",
    "        union_actors = ((df.iloc[i, 1:] == 1) | (df.iloc[j, 1:] == 1)).sum()\n",
    "       \n",
    "        CI = matching_actors / union_actors\n",
    "       \n",
    "        communality_matrix[i,j] = CI\n",
    "        communality_matrix[j,i] = CI\n",
    "        \n",
    "\n",
    "communality_df = pd.DataFrame(communality_matrix,\n",
    "                              index=df['Toma'],\n",
    "                              columns=df['Toma'])\n",
    "\n",
    "#print('matrix de comunalidades:')\n",
    "#print(communality_df)\n",
    "\n",
    "#funcion que evalua cada combinacion y calcula el costo de la solucion dada\n",
    "def Generate_solution(df, communality_df):\n",
    "    \n",
    "    #dataframe que relaciona la tomas de la combinacion evaluada con los actores que participan en ella\n",
    "    #ordenandolo en orden decreciente segun numero de actores\n",
    "    total_actors_df = pd.DataFrame({'Toma': df['Toma'], 'Total Actors': df['ActoresPorToma']})\n",
    "    total_actors_df = total_actors_df.sort_values(by='Total Actors', ascending=False)\n",
    "\n",
    "    Actor_per_take_Ordered_df = total_actors_df[['Toma', 'Total Actors']].reset_index(drop=True)\n",
    "\n",
    "    #conjuntos que se emplean para llevar cuenta de la participacion diaria y acumulada\n",
    "    actor_participation = set()\n",
    "    full_actor_participation = set()\n",
    "\n",
    "    #listas que se emplean para llevar cuenta de la programacion de tomas diaria y acumulada\n",
    "    recording_schedule_takes = []\n",
    "    Recordig_Schedule_Full = []\n",
    "    \n",
    "    #varaibles de control de flujo del condicional\n",
    "    recording_days = 0\n",
    "    row_count = len(Actor_per_take_Ordered_df)\n",
    "    \n",
    "    #costo de la solucion evaluada\n",
    "    cost = 0\n",
    "    \n",
    "    #creacion de dataframe con tomas con el mayor numero de actores del cual se\n",
    "    #selecciona una al azar y se asigna a toma_c para inicializarla\n",
    "        \n",
    "    highest_actor_count = Actor_per_take_Ordered_df[\"Total Actors\"].max()\n",
    "\n",
    "    highest_actor_count_df = Actor_per_take_Ordered_df[Actor_per_take_Ordered_df[\"Total Actors\"] == highest_actor_count]\n",
    "\n",
    "    take_C = random.choice(highest_actor_count_df[\"Toma\"].values)\n",
    "\n",
    "    while row_count > 0:\n",
    "        \n",
    "        #Seleccion de la primera toma del dataframe, se guarda en toma_A, \n",
    "        #cuenta los actores en ella, para luego eliminarla del dataframe de referencia\n",
    "        #y le añade a la programacion de grabacion\n",
    "\n",
    "        take_A = take_C         \n",
    "        \n",
    "        index_to_drop = Actor_per_take_Ordered_df[Actor_per_take_Ordered_df['Toma'] == take_A].index\n",
    "\n",
    "        Actor_per_take_Ordered_df = Actor_per_take_Ordered_df.drop(index_to_drop)\n",
    "        \n",
    "        recording_schedule_takes.append(take_A)\n",
    "        \n",
    "        \n",
    "        #cuenta los actores en ella, para luego eliminarla del dataframe de referencia\n",
    "        #y le añade a la programacion de grabacion\n",
    "        actors = df[df['Toma'] == take_A].iloc[0, 1:]\n",
    "\n",
    "        for actor, present in actors.items():\n",
    "            if present == 1:\n",
    "                actor_participation.add(actor)\n",
    "                \n",
    "        #se evalua el dataframe de referenca y si solo queda una toma por grabar\n",
    "        #cuenta los actores participantes, los agrega a la lista, y hace la cuenta\n",
    "        #de los totales\n",
    "        if len(Actor_per_take_Ordered_df) == 1:\n",
    "            \n",
    "            recording_days += 1\n",
    "            \n",
    "            last_take = Actor_per_take_Ordered_df.iloc[0].loc['Toma']\n",
    "            recording_schedule_takes.append(last_take)\n",
    "            \n",
    "            actors = df[df['Toma'] == last_take].iloc[0, 1:]\n",
    "\n",
    "            for actor, present in actors.items():\n",
    "                if present == 1:\n",
    "                    actor_participation.add(actor)\n",
    "                    \n",
    "            #print(f\"Actor Participation per DAY: {actor_participation}\")\n",
    "            \n",
    "            full_actor_participation.update(actor_participation)\n",
    "            actor_count = len(actor_participation)\n",
    "            actor_participation = set()\n",
    "            \n",
    "            #print(f\"Recordig Schedule until DAY: {recording_schedule_takes}\")\n",
    "            Recordig_Schedule_Full.append(recording_schedule_takes)\n",
    "            recording_schedule_takes = []\n",
    "            #print(f\"Recordig Schedule Acumulated: {Recordig_Schedule_Full}\")\n",
    "            \n",
    "            actors_recording_day = pd.DataFrame({'Day': [recording_days], 'Actor Count': [actor_count]})\n",
    "            \n",
    "            cost += actor_count\n",
    "            \n",
    "            #print(actors_recording_day)\n",
    "            #print(\"----- end --------------------------------of-------------------------------- day ---------\")\n",
    "            #print(\"------------------------------------------------------------------------------------------\\n\\n\")\n",
    "            break\n",
    "\n",
    "        #escoger al azar una toma con la comunalidad mas alta dentro de las tomas restantes \n",
    "        #y asiganrla a toma_B y removerla de a lista de tomas\n",
    "        row = communality_df.loc[take_A].drop(take_A)\n",
    "        valid_takes = Actor_per_take_Ordered_df['Toma']\n",
    "        row = row[row.index.isin(valid_takes)]\n",
    "              \n",
    "        max_value = row.max()\n",
    "  \n",
    "        max_value_indices = row[row == max_value].index\n",
    "\n",
    "        take_B = random.choice(max_value_indices)\n",
    "\n",
    "        max_value_indices_list = max_value_indices.tolist()\n",
    "\n",
    "        max_value_indices_list.remove(take_B)\n",
    "\n",
    "        #si no hay mas tomas entre las de comunalidad mas alta\n",
    "        #escoger aleatoriamente etre las que les siguen y\n",
    "        #asignarla a toma_C para luego removerla de la lista de disponibles\n",
    "        if len(max_value_indices_list) > 0:\n",
    "           \n",
    "            take_C = random.choice(max_value_indices_list)\n",
    "        else:\n",
    "          \n",
    "            row = communality_df.loc[take_A].drop(take_A)\n",
    "            valid_takes = Actor_per_take_Ordered_df['Toma']\n",
    "            row = row[row.index.isin(valid_takes)]\n",
    "          \n",
    "            unique_values = row.unique()\n",
    "            unique_values.sort()\n",
    "            unique_values = unique_values[::-1]\n",
    "\n",
    "            second_highest_value = unique_values[1]\n",
    "\n",
    "            scnd_value_indices = row[row == second_highest_value].index\n",
    "           \n",
    "            take_C = random.choice(scnd_value_indices)\n",
    "\n",
    "        #cuenta los actores en la toma B, para luego eliminarla del dataframe de referencia\n",
    "        #y le añade a la programacion de grabacion\n",
    "        actors = df[df['Toma'] == take_B].iloc[0, 1:]\n",
    "\n",
    "        for actor, present in actors.items():\n",
    "            if present == 1:\n",
    "                actor_participation.add(actor)\n",
    "\n",
    "        recording_schedule_takes.append(take_B)\n",
    "        \n",
    "        index_to_drop = Actor_per_take_Ordered_df[Actor_per_take_Ordered_df['Toma'] == take_B].index\n",
    "\n",
    "        Actor_per_take_Ordered_df = Actor_per_take_Ordered_df.drop(index_to_drop)\n",
    "        \n",
    "        #se actualiza la varible de control del while        \n",
    "        row_count = len(Actor_per_take_Ordered_df)\n",
    "        \n",
    "        #se evalua si dataframe de referenca y si van 6 tomas grabadas\n",
    "        #cuenta los actores participantes, los agrega a la lista, y hace la cuenta\n",
    "        #de los totales diarios     \n",
    "        if len(recording_schedule_takes) % 6 == 0 :\n",
    "            \n",
    "            recording_days += 1\n",
    "            \n",
    "            #print(f\"Actor Participation per DAY: {actor_participation}\")\n",
    "            \n",
    "            full_actor_participation.update(actor_participation)\n",
    "            actor_count = len(actor_participation)\n",
    "            actor_participation = set()\n",
    "            \n",
    "            #print(f\"Recordig Schedule until DAY: {recording_schedule_takes}\")\n",
    "            Recordig_Schedule_Full.append(recording_schedule_takes)\n",
    "            recording_schedule_takes = []\n",
    "            #print(f\"Recordig Schedule Acumulated: {Recordig_Schedule_Full}\")\n",
    "\n",
    "            actors_recording_day = pd.DataFrame({'Day': [recording_days], 'Actor Count': [actor_count]})\n",
    "            \n",
    "            cost += actor_count\n",
    "            \n",
    "            #print(actors_recording_day)\n",
    "            #print(\"----end ------------------------------of---------------------------------- day ---------\")\n",
    "            \n",
    "            \n",
    "    return full_actor_participation, Recordig_Schedule_Full, actors_recording_total, cost\n",
    "  \n",
    "    \n",
    "    \n",
    "# implementacion del algoritmo para generar una poblacion de 1000 soluciones y escoger la mejor 'menor costo'\n",
    "\n",
    "\n",
    "# cantidad de solutiones a generar\n",
    "num_solutions = 1000\n",
    "\n",
    "# lista para alamcenar las soluciones\n",
    "solutions = []\n",
    "\n",
    "# generar las soluciones\n",
    "for i in range(num_solutions):\n",
    "    \n",
    "    full_actor_participation, Recordig_Schedule_Full, actors_recording_total, cost = Generate_solution(df, communality_df)\n",
    "    \n",
    "    \n",
    "    solution = {\n",
    "        'full_actor_participation': full_actor_participation,\n",
    "        'Recordig_Schedule_Full': Recordig_Schedule_Full,\n",
    "        'actors_recording_total': actors_recording_total,\n",
    "        'cost': cost\n",
    "    }\n",
    "    solutions.append(solution)\n",
    "\n",
    "# escoger la solucion con el menor costo\n",
    "best_solution = min(solutions, key=lambda x: x['cost'])\n",
    "\n",
    "#mostrar en pantalla\n",
    "print(\"Best solution:\")\n",
    "print(best_solution)\n"
   ]
  },
  {
   "cell_type": "markdown",
   "metadata": {
    "id": "eGDB4K6uk1iN"
   },
   "source": [
    "(*)Calcula la complejidad del algoritmo"
   ]
  },
  {
   "cell_type": "markdown",
   "metadata": {
    "id": "NhpTh_BPk1ms"
   },
   "source": [
    "Respuesta"
   ]
  },
  {
   "cell_type": "markdown",
   "metadata": {
    "id": "nREzhkStlCq8"
   },
   "source": [
    "para encontrar una solucion es preciso calcular la matriz de cumunalidades el costo computacional asociado es de al menos n*n siendo n la cantidad de tomas (30).<br> \n",
    "Ya en el interior de la funcion tenemos el while que cicla n veces y en su interior un par de for loops que ciclan 10 veces(cantidad de actores), lo que nos da una complejidad de 10n. al interar el llamando a la funcion para generar una poblacion de soluciones de la cual escoger la mejor, se multiplica ese 10n por dicha cantidad, en este caso 1000.\n",
    "Esto nos da 10000n. <br>  Si bien la complejidad de la matirz de comunalidaddes es cuadratica, el coeficiente que se obtiene al construir un espacio de soluciones diverso y numeroso, puede impactar de forma mas significativa el costo computacional de ejecutar el algoritmo."
   ]
  },
  {
   "cell_type": "markdown",
   "metadata": {
    "id": "3M6QjTsSkmYe"
   },
   "source": [
    "Según el problema (y tenga sentido), diseña un juego de datos de entrada aleatorios"
   ]
  },
  {
   "cell_type": "markdown",
   "metadata": {
    "id": "Jc3_OlyNkvjZ"
   },
   "source": [
    "Respuesta"
   ]
  },
  {
   "cell_type": "code",
   "execution_count": null,
   "metadata": {
    "id": "sJ-N2etjkyWc"
   },
   "outputs": [],
   "source": [
    "data = {\n",
    "    'Toma': list(range(1, 31)),\n",
    "    'Actor1': np.random.randint(2, size=30),\n",
    "    'Actor2': np.random.randint(2, size=30),\n",
    "    'Actor3': np.random.randint(2, size=30),\n",
    "    'Actor4': np.random.randint(2, size=30),\n",
    "    'Actor5': np.random.randint(2, size=30),\n",
    "    'Actor6': np.random.randint(2, size=30),\n",
    "    'Actor7': np.random.randint(2, size=30),\n",
    "    'Actor8': np.random.randint(2, size=30),\n",
    "    'Actor9': np.random.randint(2, size=30),\n",
    "    'Actor10': np.random.randint(2, size=30)\n",
    "}\n",
    "\n",
    "df = pd.DataFrame(data)\n",
    "\n",
    "print(df)"
   ]
  },
  {
   "cell_type": "markdown",
   "metadata": {
    "id": "zy5ZROmjlGo1"
   },
   "source": [
    "Aplica el algoritmo al juego de datos generado"
   ]
  },
  {
   "cell_type": "markdown",
   "metadata": {
    "id": "_Cmj-PVylMsa"
   },
   "source": [
    "Respuesta"
   ]
  },
  {
   "cell_type": "code",
   "execution_count": null,
   "metadata": {
    "id": "Jkx8GeiYlUz1"
   },
   "outputs": [],
   "source": [
    "    \n",
    "# implementacion del algoritmo para generar una poblacion de 1000 soluciones y escoger la mejor 'menor costo'\n",
    "# ejecutar la celda precedente para actualizar en contenido de df\n",
    "\n",
    "# cantidad de solutiones a generar\n",
    "num_solutions = 1000\n",
    "\n",
    "# lista para alamcenar las soluciones\n",
    "solutions = []\n",
    "\n",
    "# generar las soluciones\n",
    "for i in range(num_solutions):\n",
    "    \n",
    "    full_actor_participation, Recordig_Schedule_Full, actors_recording_total, cost = Generate_solution(df, communality_df)\n",
    "    \n",
    "    \n",
    "    solution = {\n",
    "        'full_actor_participation': full_actor_participation,\n",
    "        'Recordig_Schedule_Full': Recordig_Schedule_Full,\n",
    "        'actors_recording_total': actors_recording_total,\n",
    "        'cost': cost\n",
    "    }\n",
    "    solutions.append(solution)\n",
    "\n",
    "# escoger la solucion con el menor costo\n",
    "best_solution = min(solutions, key=lambda x: x['cost'])\n",
    "\n",
    "#mostrar en pantalla\n",
    "print(\"Best solution:\")\n",
    "print(best_solution)\n"
   ]
  },
  {
   "cell_type": "markdown",
   "metadata": {
    "id": "eTFWUJQrtGcv"
   },
   "source": [
    "Enumera las referencias que has utilizado(si ha sido necesario) para llevar a cabo el trabajo"
   ]
  },
  {
   "cell_type": "markdown",
   "metadata": {
    "id": "YKQ_mRBttWsP"
   },
   "source": [
    "Respuesta"
   ]
  },
  {
   "cell_type": "code",
   "execution_count": null,
   "metadata": {},
   "outputs": [],
   "source": [
    "Solo los materiales de clase (modulo y clases)"
   ]
  },
  {
   "cell_type": "markdown",
   "metadata": {
    "id": "kAkDPUyRtYyH"
   },
   "source": [
    "Describe brevemente las lineas de como crees que es posible avanzar en el estudio del problema. Ten en cuenta incluso posibles variaciones del problema y/o variaciones al alza del tamaño"
   ]
  },
  {
   "cell_type": "markdown",
   "metadata": {
    "id": "IE0uZmo-tZu-"
   },
   "source": [
    "Respuesta"
   ]
  },
  {
   "cell_type": "markdown",
   "metadata": {},
   "source": [
    "Pienso que al definir o representar el problema en una forma diferente se pueden vislumbrar estrategias de solucion alternativas.\n",
    "Si se continua el camino de la genreracion de programaciones de grabacion entereamente aleatorias, se podrin emplear metaheuristicas del tipo colonia de hormigas, recocido simulado, u algoritmos geneticos, para evaluar las mejores soluciones dentro de la poblacion generada. <br>\n",
    "\n",
    "Podria explorarse la misma estrategia que desarrolle' en este ejercicio mas no ordenando por tomas sino por actores. Quiza ese camino ofrezca mejores soluciones. "
   ]
  },
  {
   "cell_type": "code",
   "execution_count": null,
   "metadata": {},
   "outputs": [],
   "source": []
  }
 ],
 "metadata": {
  "colab": {
   "provenance": []
  },
  "kernelspec": {
   "display_name": "Python 3 (ipykernel)",
   "language": "python",
   "name": "python3"
  },
  "language_info": {
   "codemirror_mode": {
    "name": "ipython",
    "version": 3
   },
   "file_extension": ".py",
   "mimetype": "text/x-python",
   "name": "python",
   "nbconvert_exporter": "python",
   "pygments_lexer": "ipython3",
   "version": "3.10.9"
  }
 },
 "nbformat": 4,
 "nbformat_minor": 1
}
